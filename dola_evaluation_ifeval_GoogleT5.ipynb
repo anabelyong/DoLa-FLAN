{
  "cells": [
    {
      "cell_type": "markdown",
      "metadata": {
        "id": "view-in-github",
        "colab_type": "text"
      },
      "source": [
        "<a href=\"https://colab.research.google.com/github/anabelyong/DoLa-FLAN/blob/main/dola_evaluation_ifeval_GoogleT5.ipynb\" target=\"_parent\"><img src=\"https://colab.research.google.com/assets/colab-badge.svg\" alt=\"Open In Colab\"/></a>"
      ]
    },
    {
      "cell_type": "markdown",
      "metadata": {
        "id": "gH2115o2tVsf"
      },
      "source": [
        "# DoLa: Decoding by Contrasting Layers Improves Factuality in Large Language Models\n",
        "\n",
        "**TL;DR:** We proposed a novel decoding method by contrasting layerwise knowledge to improve factuality of large language models.\n",
        "<p align=\"center\"><img src=\"https://raw.githubusercontent.com/voidism/DoLa/main/figure.png\" width=\"500\"></p>\n",
        "\n",
        "arXiv link: https://arxiv.org/abs/2309.03883\n",
        "code link: https://github.com/voidism/DoLa  \n",
        "twitter discussion: https://twitter.com/YungSungChuang/status/1701623359153316255\n",
        "\n",
        "\n",
        "> **Warning:** Colab Pro is required to run this code, as inference with LLaMA has high-RAM demand. Choose **V100 GPU** and turn on the **High-RAM Shape option** before running the code!\n",
        "\n",
        "> **Warning:** Running the code without **High-RAM Shape option**, the program will fail during loading the LLaMA checkpoints!\n"
      ]
    },
    {
      "cell_type": "markdown",
      "metadata": {
        "id": "KWmCNnzduLyk"
      },
      "source": [
        "## Setup\n",
        "\n",
        "1. git clone our repo\n",
        "2. install the customized transformers package (which supports a our new decoding method)\n",
        "3. install other requirements from pip"
      ]
    },
    {
      "cell_type": "code",
      "execution_count": null,
      "metadata": {
        "id": "yCxFW7_5shD-"
      },
      "outputs": [],
      "source": [
        "!git clone https://github.com/voidism/DoLa.git\n",
        "!cd DoLa/transformers-4.28.1 && pip install -e .\n",
        "!cd DoLa && pip install -r requirements.txt"
      ]
    },
    {
      "cell_type": "code",
      "source": [
        "from google.colab import drive\n",
        "drive.mount('/content/drive')"
      ],
      "metadata": {
        "id": "6Bwtnbcw6YQZ"
      },
      "execution_count": null,
      "outputs": []
    },
    {
      "cell_type": "code",
      "source": [
        "!cp -r \"/content/drive/My Drive/1-proverb-ending.csv\" /content/DoLa/\n",
        "!cp -r \"/content/drive/My Drive/ifeval_eval.py\" /content/DoLa/\n",
        "!cp -r \"/content/drive/My Drive/dola_t5.py\" /content/DoLa/"
      ],
      "metadata": {
        "id": "MCcgdGK76YVH"
      },
      "execution_count": null,
      "outputs": []
    },
    {
      "cell_type": "code",
      "source": [
        "!cd DoLa && python ifeval_eval.py --model-name google-t5/t5-small --data-path ./tmp/ --output-path ifeval-googleT5-small.jsonl --num-gpus 1"
      ],
      "metadata": {
        "id": "xsJfkP8b6YX3"
      },
      "execution_count": null,
      "outputs": []
    },
    {
      "cell_type": "code",
      "source": [
        "!cd DoLa && python ifeval_eval.py --model-name google-t5/t5-small --early-exit-layers 16,18,20,22,24,26,28,30,32 --repetition_penalty 1.2 --data-path ./tmp/ --output-path ifeval-googleT5-small-DoLa.jsonl --num-gpus 1"
      ],
      "metadata": {
        "id": "LnqBnMIE547h"
      },
      "execution_count": null,
      "outputs": []
    },
    {
      "cell_type": "code",
      "source": [
        "!cd DoLa && python ifeval_eval.py --model-name google-t5/t5-base --data-path ./tmp/ --output-path ifeval-googleT5-base.jsonl --num-gpus 1"
      ],
      "metadata": {
        "id": "svLbQMtA548n"
      },
      "execution_count": null,
      "outputs": []
    },
    {
      "cell_type": "code",
      "source": [
        "!cd DoLa && python ifeval_eval.py --model-name google-t5/t5-base --early-exit-layers 16,18,20,22,24,26,28,30,32 --repetition_penalty 1.2 --data-path ./tmp/ --output-path ifeval-googleT5-base-DoLa.jsonl --num-gpus 1"
      ],
      "metadata": {
        "id": "Joo_Pxik54-V"
      },
      "execution_count": null,
      "outputs": []
    },
    {
      "cell_type": "code",
      "source": [
        "!cd DoLa && python ifeval_eval.py --model-name google-t5/t5-large --data-path ./tmp/ --output-path ifeval-googleT5-large.jsonl --num-gpus 1"
      ],
      "metadata": {
        "id": "jxcErdlf55Az"
      },
      "execution_count": null,
      "outputs": []
    },
    {
      "cell_type": "code",
      "source": [
        "!cd DoLa && python ifeval_eval.py --model-name google-t5/t5-large --early-exit-layers 16,18,20,22,24,26,28,30,32 --repetition_penalty 1.2 --data-path ./tmp/ --output-path ifeval-googleT5-large-DoLa.jsonl --num-gpus 1"
      ],
      "metadata": {
        "id": "wvl1hIBY55Du"
      },
      "execution_count": null,
      "outputs": []
    },
    {
      "cell_type": "code",
      "source": [
        "!cd DoLa && python ifeval_eval.py --model-name google-t5/t5-3b --data-path ./tmp/ --output-path ifeval-googleT5-3b.jsonl --num-gpus 1"
      ],
      "metadata": {
        "id": "uOwDfH-fARj9"
      },
      "execution_count": null,
      "outputs": []
    },
    {
      "cell_type": "code",
      "source": [
        "!cd DoLa && python ifeval_eval.py --model-name google-t5/t5-3b --early-exit-layers 16,18,20,22,24,26,28,30,32 --repetition_penalty 1.2 --data-path ./tmp/ --output-path ifeval-googleT5-3b-DoLa.jsonl --num-gpus 1"
      ],
      "metadata": {
        "id": "tbBgn4eg55GX"
      },
      "execution_count": null,
      "outputs": []
    },
    {
      "cell_type": "code",
      "source": [
        "!cd DoLa && python ifeval_eval.py --model-name google-t5/t5-11b --data-path ./tmp/ --output-path ifeval-googleT5-11b.jsonl --num-gpus 1"
      ],
      "metadata": {
        "id": "brT6SmBIARr4"
      },
      "execution_count": null,
      "outputs": []
    },
    {
      "cell_type": "code",
      "source": [
        "!cd DoLa && python ifeval_eval.py --model-name google-t5/t5-11b --early-exit-layers 16,18,20,22,24,26,28,30,32 --repetition_penalty 1.2 --data-path ./tmp/ --output-path ifeval-googleT5-11b-DoLa.jsonl --num-gpus 1"
      ],
      "metadata": {
        "id": "ZiJZpuTRAR2F"
      },
      "execution_count": null,
      "outputs": []
    }
  ],
  "metadata": {
    "accelerator": "GPU",
    "colab": {
      "gpuType": "V100",
      "machine_shape": "hm",
      "provenance": [],
      "include_colab_link": true
    },
    "kernelspec": {
      "display_name": "Python 3",
      "name": "python3"
    },
    "language_info": {
      "name": "python"
    }
  },
  "nbformat": 4,
  "nbformat_minor": 0
}